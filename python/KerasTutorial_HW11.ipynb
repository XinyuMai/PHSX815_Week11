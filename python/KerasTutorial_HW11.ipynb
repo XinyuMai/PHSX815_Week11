{
 "cells": [
  {
   "cell_type": "markdown",
   "metadata": {},
   "source": [
    "## PHSX 815 Neural Network with Keras tutorial\n",
    "### How can we predict the quality of wine based on its physical characteristics?\n",
    "We will download the `wine_quality` dataset from Tensorflow (the Keras backend) to train a neural network to predict wine quality."
   ]
  },
  {
   "cell_type": "code",
   "execution_count": 1,
   "metadata": {},
   "outputs": [],
   "source": [
    "import matplotlib.pyplot as plt\n",
    "import seaborn as sns\n",
    "import numpy as np\n",
    "from sklearn.preprocessing import OneHotEncoder, MinMaxScaler\n",
    "from sklearn.metrics import confusion_matrix\n",
    "from sklearn.model_selection import train_test_split\n",
    "import pandas as pd\n",
    "\n",
    "import tensorflow as tf\n",
    "from tensorflow.keras.models import Sequential, Model\n",
    "from tensorflow.keras.layers import *\n",
    "# from tensorflow.keras.optimizers import SGD, Adam\n",
    "# from tensorflow.keras.activations import relu\n",
    "import tensorflow_datasets as tfds\n",
    "from IPython.core.interactiveshell import InteractiveShell\n",
    "InteractiveShell.ast_node_interactivity = \"all\""
   ]
  },
  {
   "cell_type": "code",
   "execution_count": 2,
   "metadata": {},
   "outputs": [
    {
     "name": "stdout",
     "output_type": "stream",
     "text": [
      "\u001b[1mDownloading and preparing dataset 258.23 KiB (download: 258.23 KiB, generated: 1.87 MiB, total: 2.13 MiB) to /Users/Han/tensorflow_datasets/wine_quality/white/1.0.0...\u001b[0m\n"
     ]
    },
    {
     "data": {
      "application/vnd.jupyter.widget-view+json": {
       "model_id": "3dc90de35edc47ae94773290e31ce1bf",
       "version_major": 2,
       "version_minor": 0
      },
      "text/plain": [
       "Dl Completed...: 0 url [00:00, ? url/s]"
      ]
     },
     "metadata": {},
     "output_type": "display_data"
    },
    {
     "data": {
      "application/vnd.jupyter.widget-view+json": {
       "model_id": "3c6defc7905e460f96c754244f2a6c8d",
       "version_major": 2,
       "version_minor": 0
      },
      "text/plain": [
       "Dl Size...: 0 MiB [00:00, ? MiB/s]"
      ]
     },
     "metadata": {},
     "output_type": "display_data"
    },
    {
     "name": "stdout",
     "output_type": "stream",
     "text": [
      "\n",
      "\n"
     ]
    },
    {
     "data": {
      "application/vnd.jupyter.widget-view+json": {
       "model_id": "",
       "version_major": 2,
       "version_minor": 0
      },
      "text/plain": [
       "Generating splits...:   0%|          | 0/1 [00:00<?, ? splits/s]"
      ]
     },
     "metadata": {},
     "output_type": "display_data"
    },
    {
     "data": {
      "application/vnd.jupyter.widget-view+json": {
       "model_id": "",
       "version_major": 2,
       "version_minor": 0
      },
      "text/plain": [
       "Generating train examples...:   0%|          | 0/4898 [00:00<?, ? examples/s]"
      ]
     },
     "metadata": {},
     "output_type": "display_data"
    },
    {
     "data": {
      "application/vnd.jupyter.widget-view+json": {
       "model_id": "",
       "version_major": 2,
       "version_minor": 0
      },
      "text/plain": [
       "Shuffling wine_quality-train.tfrecord...:   0%|          | 0/4898 [00:00<?, ? examples/s]"
      ]
     },
     "metadata": {},
     "output_type": "display_data"
    },
    {
     "name": "stdout",
     "output_type": "stream",
     "text": [
      "\u001b[1mDataset wine_quality downloaded and prepared to /Users/Han/tensorflow_datasets/wine_quality/white/1.0.0. Subsequent calls will reuse this data.\u001b[0m\n",
      "Features and label for first entry\n",
      "{'alcohol': 9.0, 'chlorides': 0.054, 'citric acid': 0.34, 'density': 1.0008, 'fixed acidity': 7.6, 'free sulfur dioxide': 44.0, 'pH': 3.22, 'residual sugar': 18.35, 'sulphates': 0.550000011920929, 'total sulfur dioxide': 197.0, 'volatile acidity': 0.32} 5\n",
      "\u001b[1mDownloading and preparing dataset 82.23 KiB (download: 82.23 KiB, generated: 626.17 KiB, total: 708.40 KiB) to /Users/Han/tensorflow_datasets/wine_quality/red/1.0.0...\u001b[0m\n"
     ]
    },
    {
     "data": {
      "application/vnd.jupyter.widget-view+json": {
       "model_id": "d942dd0a8a5f4d13a1323982118e85ff",
       "version_major": 2,
       "version_minor": 0
      },
      "text/plain": [
       "Dl Completed...: 0 url [00:00, ? url/s]"
      ]
     },
     "metadata": {},
     "output_type": "display_data"
    },
    {
     "data": {
      "application/vnd.jupyter.widget-view+json": {
       "model_id": "658f43fc8c11434faaf7dc420737e20b",
       "version_major": 2,
       "version_minor": 0
      },
      "text/plain": [
       "Dl Size...: 0 MiB [00:00, ? MiB/s]"
      ]
     },
     "metadata": {},
     "output_type": "display_data"
    },
    {
     "name": "stdout",
     "output_type": "stream",
     "text": [
      "\n",
      "\n"
     ]
    },
    {
     "data": {
      "application/vnd.jupyter.widget-view+json": {
       "model_id": "",
       "version_major": 2,
       "version_minor": 0
      },
      "text/plain": [
       "Generating splits...:   0%|          | 0/1 [00:00<?, ? splits/s]"
      ]
     },
     "metadata": {},
     "output_type": "display_data"
    },
    {
     "data": {
      "application/vnd.jupyter.widget-view+json": {
       "model_id": "",
       "version_major": 2,
       "version_minor": 0
      },
      "text/plain": [
       "Generating train examples...:   0%|          | 0/1599 [00:00<?, ? examples/s]"
      ]
     },
     "metadata": {},
     "output_type": "display_data"
    },
    {
     "data": {
      "application/vnd.jupyter.widget-view+json": {
       "model_id": "",
       "version_major": 2,
       "version_minor": 0
      },
      "text/plain": [
       "Shuffling wine_quality-train.tfrecord...:   0%|          | 0/1599 [00:00<?, ? examples/s]"
      ]
     },
     "metadata": {},
     "output_type": "display_data"
    },
    {
     "name": "stdout",
     "output_type": "stream",
     "text": [
      "\u001b[1mDataset wine_quality downloaded and prepared to /Users/Han/tensorflow_datasets/wine_quality/red/1.0.0. Subsequent calls will reuse this data.\u001b[0m\n",
      "number of samples 6497\n",
      "possible wine quality ratings [5 6 4 8 7 3 9]\n"
     ]
    }
   ],
   "source": [
    "#if you want to load the data as tuples, you can use the as_supervised=True argument\n",
    "data_train = tfds.load('wine_quality',split='train',as_supervised=True)\n",
    "\n",
    "#looking at just one sample of our data\n",
    "pt = data_train.take(1)\n",
    "# type(pt)\n",
    "\n",
    "#can convert this TakeDataset object to a numpy array (can do this for the whole dataset too)\n",
    "print(\"Features and label for first entry\")\n",
    "for features, label in tfds.as_numpy(pt):\n",
    "    print(features,label)\n",
    "\n",
    "#we want to load dataset as a a dictionary of tf.Tensors (can't transform tuples to dataframe)\n",
    "data_train_white = tfds.load('wine_quality/white',split='train')\n",
    "data_train_red = tfds.load('wine_quality/red',split='train')\n",
    "\n",
    "#transform dictionary to dataframe - combining red and white wine\n",
    "df_white = tfds.as_dataframe(data_train_white)\n",
    "df_red = tfds.as_dataframe(data_train_red)\n",
    "df = pd.concat([df_white,df_red])\n",
    "\n",
    "print('number of samples',len(df['quality']))\n",
    "\n",
    "#what are our output possibilities?\n",
    "print('possible wine quality ratings',df['quality'].unique())"
   ]
  },
  {
   "cell_type": "code",
   "execution_count": 3,
   "metadata": {},
   "outputs": [
    {
     "name": "stdout",
     "output_type": "stream",
     "text": [
      "all good!\n"
     ]
    }
   ],
   "source": [
    "#do we have any missing data (empty or NaN entries in features or labels)?\n",
    "dataNans = df.isnull().values.any()\n",
    "if not dataNans:\n",
    "    print(\"all good!\")"
   ]
  },
  {
   "cell_type": "markdown",
   "metadata": {},
   "source": [
    "### Preprocessing our labels\n",
    "Although this may seem like a regression task for a neural network because we are predicting a number (wine quality), the labels are actually *categorical* not *continuous*. If you look at the labels, you see that they are integer values between 5 and 9. Because this is a classification problem, we need to one-hot encode our labels. This means taking our possible outcomes and turning them into arrays of a 1 and 0's. The index of the 1 in the array will tell us which class is which. So, for example, 5 becomes [1,0,0,0,0], 6 becomes [0,1,0,0,0] and so on. We can use a function from sklearn to do this automatically."
   ]
  },
  {
   "cell_type": "markdown",
   "metadata": {},
   "source": [
    "this dataset unfortunately only gives us training data - but we can set aside a portion for testing our network on. in practice, you don't want to test your network on data it has already seen (is it really a prediction if you use your model on data it was fitted to?) but, for educational purposes, we can ~randomly sample our data and call it ~iid.\n",
    "Here, I combine the red and white wine datasets for increased statistics. What happens if you train networks on these datasets separately? Or what happens if you use one dataset to train and one to test?"
   ]
  },
  {
   "cell_type": "code",
   "execution_count": 4,
   "metadata": {},
   "outputs": [
    {
     "data": {
      "text/plain": [
       "array([5, 6, 4, 8, 7, 3, 9])"
      ]
     },
     "execution_count": 4,
     "metadata": {},
     "output_type": "execute_result"
    },
    {
     "data": {
      "text/html": [
       "<div>\n",
       "<style scoped>\n",
       "    .dataframe tbody tr th:only-of-type {\n",
       "        vertical-align: middle;\n",
       "    }\n",
       "\n",
       "    .dataframe tbody tr th {\n",
       "        vertical-align: top;\n",
       "    }\n",
       "\n",
       "    .dataframe thead th {\n",
       "        text-align: right;\n",
       "    }\n",
       "</style>\n",
       "<table border=\"1\" class=\"dataframe\">\n",
       "  <thead>\n",
       "    <tr style=\"text-align: right;\">\n",
       "      <th></th>\n",
       "      <th>features/alcohol</th>\n",
       "      <th>features/chlorides</th>\n",
       "      <th>features/citric acid</th>\n",
       "      <th>features/density</th>\n",
       "      <th>features/fixed acidity</th>\n",
       "      <th>features/free sulfur dioxide</th>\n",
       "      <th>features/pH</th>\n",
       "      <th>features/residual sugar</th>\n",
       "      <th>features/sulphates</th>\n",
       "      <th>features/total sulfur dioxide</th>\n",
       "      <th>features/volatile acidity</th>\n",
       "    </tr>\n",
       "  </thead>\n",
       "  <tbody>\n",
       "    <tr>\n",
       "      <th>235</th>\n",
       "      <td>10.2</td>\n",
       "      <td>0.036</td>\n",
       "      <td>0.50</td>\n",
       "      <td>0.99640</td>\n",
       "      <td>6.9</td>\n",
       "      <td>78.0</td>\n",
       "      <td>3.15</td>\n",
       "      <td>10.0</td>\n",
       "      <td>0.55</td>\n",
       "      <td>167.0</td>\n",
       "      <td>0.20</td>\n",
       "    </tr>\n",
       "    <tr>\n",
       "      <th>2252</th>\n",
       "      <td>9.4</td>\n",
       "      <td>0.050</td>\n",
       "      <td>0.49</td>\n",
       "      <td>0.99560</td>\n",
       "      <td>8.9</td>\n",
       "      <td>17.0</td>\n",
       "      <td>3.13</td>\n",
       "      <td>1.6</td>\n",
       "      <td>0.34</td>\n",
       "      <td>131.0</td>\n",
       "      <td>0.32</td>\n",
       "    </tr>\n",
       "    <tr>\n",
       "      <th>1160</th>\n",
       "      <td>9.8</td>\n",
       "      <td>0.073</td>\n",
       "      <td>0.26</td>\n",
       "      <td>0.99612</td>\n",
       "      <td>7.5</td>\n",
       "      <td>24.0</td>\n",
       "      <td>3.30</td>\n",
       "      <td>1.9</td>\n",
       "      <td>0.53</td>\n",
       "      <td>88.0</td>\n",
       "      <td>0.61</td>\n",
       "    </tr>\n",
       "    <tr>\n",
       "      <th>3025</th>\n",
       "      <td>9.1</td>\n",
       "      <td>0.067</td>\n",
       "      <td>0.34</td>\n",
       "      <td>0.99860</td>\n",
       "      <td>7.1</td>\n",
       "      <td>35.0</td>\n",
       "      <td>3.07</td>\n",
       "      <td>14.4</td>\n",
       "      <td>0.53</td>\n",
       "      <td>189.0</td>\n",
       "      <td>0.26</td>\n",
       "    </tr>\n",
       "    <tr>\n",
       "      <th>706</th>\n",
       "      <td>9.1</td>\n",
       "      <td>0.095</td>\n",
       "      <td>0.27</td>\n",
       "      <td>0.99747</td>\n",
       "      <td>8.2</td>\n",
       "      <td>5.0</td>\n",
       "      <td>3.13</td>\n",
       "      <td>2.0</td>\n",
       "      <td>0.62</td>\n",
       "      <td>77.0</td>\n",
       "      <td>0.64</td>\n",
       "    </tr>\n",
       "  </tbody>\n",
       "</table>\n",
       "</div>"
      ],
      "text/plain": [
       "      features/alcohol  features/chlorides  features/citric acid  \\\n",
       "235               10.2               0.036                  0.50   \n",
       "2252               9.4               0.050                  0.49   \n",
       "1160               9.8               0.073                  0.26   \n",
       "3025               9.1               0.067                  0.34   \n",
       "706                9.1               0.095                  0.27   \n",
       "\n",
       "      features/density  features/fixed acidity  features/free sulfur dioxide  \\\n",
       "235            0.99640                     6.9                          78.0   \n",
       "2252           0.99560                     8.9                          17.0   \n",
       "1160           0.99612                     7.5                          24.0   \n",
       "3025           0.99860                     7.1                          35.0   \n",
       "706            0.99747                     8.2                           5.0   \n",
       "\n",
       "      features/pH  features/residual sugar  features/sulphates  \\\n",
       "235          3.15                     10.0                0.55   \n",
       "2252         3.13                      1.6                0.34   \n",
       "1160         3.30                      1.9                0.53   \n",
       "3025         3.07                     14.4                0.53   \n",
       "706          3.13                      2.0                0.62   \n",
       "\n",
       "      features/total sulfur dioxide  features/volatile acidity  \n",
       "235                           167.0                       0.20  \n",
       "2252                          131.0                       0.32  \n",
       "1160                           88.0                       0.61  \n",
       "3025                          189.0                       0.26  \n",
       "706                            77.0                       0.64  "
      ]
     },
     "execution_count": 4,
     "metadata": {},
     "output_type": "execute_result"
    }
   ],
   "source": [
    "#it's helpful to separate our input features from our target features (quality) \n",
    "#so we can later only transform our inputs without changing our labels\n",
    "labels = df['quality']\n",
    "df = df.drop(labels='quality',axis=1)\n",
    "labels.unique()\n",
    "\n",
    "enc = OneHotEncoder(sparse=False)\n",
    "labels = enc.fit_transform(labels.to_numpy().reshape(-1,1))\n",
    "\n",
    "#make our test data\n",
    "df, df_test, labels, df_testLabels = train_test_split(df,labels,test_size=0.1)\n",
    "\n",
    "#look at the first 5 entries\n",
    "df.head()"
   ]
  },
  {
   "cell_type": "markdown",
   "metadata": {},
   "source": [
    "### some questions to consider:\n",
    "- how was this data obtained? what goes into engineering the features? what does \"quality\" mean?\n",
    "- do you have to normalize your features?\n",
    "- are there any correlations among features? is this expected? how can we encode this information to the NN or decouple these features?\n",
    "- what does the data look like?\n",
    "- do we have any missing or NaN entries?"
   ]
  },
  {
   "cell_type": "markdown",
   "metadata": {},
   "source": [
    "let's examine the data to see what kinds of transformations we need to make for preprocessing"
   ]
  },
  {
   "cell_type": "code",
   "execution_count": 5,
   "metadata": {},
   "outputs": [
    {
     "data": {
      "text/html": [
       "<div>\n",
       "<style scoped>\n",
       "    .dataframe tbody tr th:only-of-type {\n",
       "        vertical-align: middle;\n",
       "    }\n",
       "\n",
       "    .dataframe tbody tr th {\n",
       "        vertical-align: top;\n",
       "    }\n",
       "\n",
       "    .dataframe thead th {\n",
       "        text-align: right;\n",
       "    }\n",
       "</style>\n",
       "<table border=\"1\" class=\"dataframe\">\n",
       "  <thead>\n",
       "    <tr style=\"text-align: right;\">\n",
       "      <th></th>\n",
       "      <th>features/alcohol</th>\n",
       "      <th>features/chlorides</th>\n",
       "      <th>features/citric acid</th>\n",
       "      <th>features/density</th>\n",
       "      <th>features/fixed acidity</th>\n",
       "      <th>features/free sulfur dioxide</th>\n",
       "      <th>features/pH</th>\n",
       "      <th>features/residual sugar</th>\n",
       "      <th>features/sulphates</th>\n",
       "      <th>features/total sulfur dioxide</th>\n",
       "      <th>features/volatile acidity</th>\n",
       "    </tr>\n",
       "  </thead>\n",
       "  <tbody>\n",
       "    <tr>\n",
       "      <th>count</th>\n",
       "      <td>5847.000000</td>\n",
       "      <td>5847.000000</td>\n",
       "      <td>5847.000000</td>\n",
       "      <td>5847.000000</td>\n",
       "      <td>5847.000000</td>\n",
       "      <td>5847.000000</td>\n",
       "      <td>5847.000000</td>\n",
       "      <td>5847.000000</td>\n",
       "      <td>5847.000000</td>\n",
       "      <td>5847.00000</td>\n",
       "      <td>5847.000000</td>\n",
       "    </tr>\n",
       "    <tr>\n",
       "      <th>mean</th>\n",
       "      <td>10.486913</td>\n",
       "      <td>0.056158</td>\n",
       "      <td>0.318035</td>\n",
       "      <td>0.994690</td>\n",
       "      <td>7.212100</td>\n",
       "      <td>30.493843</td>\n",
       "      <td>3.218962</td>\n",
       "      <td>5.431871</td>\n",
       "      <td>0.530381</td>\n",
       "      <td>115.66145</td>\n",
       "      <td>0.339294</td>\n",
       "    </tr>\n",
       "    <tr>\n",
       "      <th>std</th>\n",
       "      <td>1.187384</td>\n",
       "      <td>0.035129</td>\n",
       "      <td>0.144917</td>\n",
       "      <td>0.002993</td>\n",
       "      <td>1.292497</td>\n",
       "      <td>17.697509</td>\n",
       "      <td>0.159865</td>\n",
       "      <td>4.765329</td>\n",
       "      <td>0.146425</td>\n",
       "      <td>56.32274</td>\n",
       "      <td>0.164541</td>\n",
       "    </tr>\n",
       "    <tr>\n",
       "      <th>min</th>\n",
       "      <td>8.000000</td>\n",
       "      <td>0.009000</td>\n",
       "      <td>0.000000</td>\n",
       "      <td>0.987130</td>\n",
       "      <td>3.800000</td>\n",
       "      <td>1.000000</td>\n",
       "      <td>2.720000</td>\n",
       "      <td>0.600000</td>\n",
       "      <td>0.220000</td>\n",
       "      <td>6.00000</td>\n",
       "      <td>0.080000</td>\n",
       "    </tr>\n",
       "    <tr>\n",
       "      <th>25%</th>\n",
       "      <td>9.500000</td>\n",
       "      <td>0.038000</td>\n",
       "      <td>0.240000</td>\n",
       "      <td>0.992320</td>\n",
       "      <td>6.400000</td>\n",
       "      <td>17.000000</td>\n",
       "      <td>3.110000</td>\n",
       "      <td>1.800000</td>\n",
       "      <td>0.430000</td>\n",
       "      <td>78.00000</td>\n",
       "      <td>0.230000</td>\n",
       "    </tr>\n",
       "    <tr>\n",
       "      <th>50%</th>\n",
       "      <td>10.300000</td>\n",
       "      <td>0.047000</td>\n",
       "      <td>0.310000</td>\n",
       "      <td>0.994850</td>\n",
       "      <td>7.000000</td>\n",
       "      <td>29.000000</td>\n",
       "      <td>3.210000</td>\n",
       "      <td>3.000000</td>\n",
       "      <td>0.510000</td>\n",
       "      <td>118.00000</td>\n",
       "      <td>0.290000</td>\n",
       "    </tr>\n",
       "    <tr>\n",
       "      <th>75%</th>\n",
       "      <td>11.300000</td>\n",
       "      <td>0.065000</td>\n",
       "      <td>0.390000</td>\n",
       "      <td>0.996950</td>\n",
       "      <td>7.700000</td>\n",
       "      <td>41.000000</td>\n",
       "      <td>3.320000</td>\n",
       "      <td>8.100000</td>\n",
       "      <td>0.600000</td>\n",
       "      <td>155.00000</td>\n",
       "      <td>0.400000</td>\n",
       "    </tr>\n",
       "    <tr>\n",
       "      <th>max</th>\n",
       "      <td>14.900000</td>\n",
       "      <td>0.611000</td>\n",
       "      <td>1.660000</td>\n",
       "      <td>1.038980</td>\n",
       "      <td>15.900000</td>\n",
       "      <td>289.000000</td>\n",
       "      <td>4.010000</td>\n",
       "      <td>65.800003</td>\n",
       "      <td>1.950000</td>\n",
       "      <td>440.00000</td>\n",
       "      <td>1.580000</td>\n",
       "    </tr>\n",
       "  </tbody>\n",
       "</table>\n",
       "</div>"
      ],
      "text/plain": [
       "       features/alcohol  features/chlorides  features/citric acid  \\\n",
       "count       5847.000000         5847.000000           5847.000000   \n",
       "mean          10.486913            0.056158              0.318035   \n",
       "std            1.187384            0.035129              0.144917   \n",
       "min            8.000000            0.009000              0.000000   \n",
       "25%            9.500000            0.038000              0.240000   \n",
       "50%           10.300000            0.047000              0.310000   \n",
       "75%           11.300000            0.065000              0.390000   \n",
       "max           14.900000            0.611000              1.660000   \n",
       "\n",
       "       features/density  features/fixed acidity  features/free sulfur dioxide  \\\n",
       "count       5847.000000             5847.000000                   5847.000000   \n",
       "mean           0.994690                7.212100                     30.493843   \n",
       "std            0.002993                1.292497                     17.697509   \n",
       "min            0.987130                3.800000                      1.000000   \n",
       "25%            0.992320                6.400000                     17.000000   \n",
       "50%            0.994850                7.000000                     29.000000   \n",
       "75%            0.996950                7.700000                     41.000000   \n",
       "max            1.038980               15.900000                    289.000000   \n",
       "\n",
       "       features/pH  features/residual sugar  features/sulphates  \\\n",
       "count  5847.000000              5847.000000         5847.000000   \n",
       "mean      3.218962                 5.431871            0.530381   \n",
       "std       0.159865                 4.765329            0.146425   \n",
       "min       2.720000                 0.600000            0.220000   \n",
       "25%       3.110000                 1.800000            0.430000   \n",
       "50%       3.210000                 3.000000            0.510000   \n",
       "75%       3.320000                 8.100000            0.600000   \n",
       "max       4.010000                65.800003            1.950000   \n",
       "\n",
       "       features/total sulfur dioxide  features/volatile acidity  \n",
       "count                     5847.00000                5847.000000  \n",
       "mean                       115.66145                   0.339294  \n",
       "std                         56.32274                   0.164541  \n",
       "min                          6.00000                   0.080000  \n",
       "25%                         78.00000                   0.230000  \n",
       "50%                        118.00000                   0.290000  \n",
       "75%                        155.00000                   0.400000  \n",
       "max                        440.00000                   1.580000  "
      ]
     },
     "execution_count": 5,
     "metadata": {},
     "output_type": "execute_result"
    }
   ],
   "source": [
    "df.describe()"
   ]
  },
  {
   "cell_type": "markdown",
   "metadata": {},
   "source": [
    "### Visualizing data\n",
    "If you want a cool and easy way to visualize not only the features, but also the correlations between features, you can use the following seaborn function, which will display the individual features on the diagonal of the subplots and the correlations between features\n",
    "\n",
    "`pl = sns.pairplot(df[df.columns], diag_kind='kde')`"
   ]
  },
  {
   "cell_type": "code",
   "execution_count": 6,
   "metadata": {},
   "outputs": [
    {
     "data": {
      "image/png": "[encoded data removed]",
      "text/plain": [
       "<Figure size 1080x1440 with 12 Axes>"
      ]
     },
     "metadata": {
      "needs_background": "light"
     },
     "output_type": "display_data"
    }
   ],
   "source": [
    "#visualizing our input features\n",
    "nFeatures = len(df.columns)\n",
    "nCols = 3\n",
    "nRows = int(np.ceil(nFeatures/nCols))\n",
    "cols = df.columns\n",
    "fig, axs = plt.subplots(nRows,nCols,figsize=(15,20))\n",
    "# for i, ax in enumerate(axs)\n",
    "col = 0\n",
    "for i in range(nRows):\n",
    "    for j in range(nCols):\n",
    "        if col >= nFeatures:\n",
    "            break\n",
    "        h = axs[i,j].hist(df[cols[col]])\n",
    "        h = axs[i,j].set_title(cols[col])\n",
    "        col += 1"
   ]
  },
  {
   "cell_type": "markdown",
   "metadata": {},
   "source": [
    "It looks like there are two types of sulfur dioxide features: total sulfur dioxide and free sulfur dioxide. I'm not entirely sure what sulfur dioxide is (I am neither a chemist nor a sommelier) so I'm curious if there is a correlation between these features. "
   ]
  },
  {
   "cell_type": "code",
   "execution_count": 7,
   "metadata": {},
   "outputs": [
    {
     "data": {
      "text/plain": [
       "<matplotlib.collections.PathCollection at 0x7fc60657afa0>"
      ]
     },
     "execution_count": 7,
     "metadata": {},
     "output_type": "execute_result"
    },
    {
     "data": {
      "image/png": "[encoded data removed]",
      "text/plain": [
       "<Figure size 432x288 with 1 Axes>"
      ]
     },
     "metadata": {
      "needs_background": "light"
     },
     "output_type": "display_data"
    }
   ],
   "source": [
    "plt.scatter(df['features/free sulfur dioxide'],df['features/total sulfur dioxide'])"
   ]
  },
  {
   "cell_type": "markdown",
   "metadata": {},
   "source": [
    "It looks like there is some correlation between these features. If I had to guess, I would say \"free sulfur dioxide\" is a subset of \"total sulfur dioxide\" but I'm not sure how or even if either of these features would affect the wine quality. This is where domain specific knowledge would be helpful! Since I have a degree in physics and not wine studies (contrary to what my weekend activities may imply) I am going to see what happens when we include both of these features in our network."
   ]
  },
  {
   "cell_type": "markdown",
   "metadata": {},
   "source": [
    "This was just a cursory look at our data. In reality, data scientists will spend most of their time feature engineering, fixing incomplete datasets, cleaning data, etc. Feel free to do more exploratory analysis on the data before you pass it through to a network!"
   ]
  },
  {
   "cell_type": "markdown",
   "metadata": {},
   "source": [
    "## Let's build our network!\n",
    "We want to build a simple DNN to essentially perform a categorization. Let's start with something simple: only a couple hidden layers and a handful of neurons. Of course, in accordance with the Universal Approximation Theorem, any function can be approximated arbitrarily well with an arbitrarily large number of layers (Lu et. al. 2017) or arbitrarily large number of neurons (Cybenko 1989). Does the network perform better or worse with an increase in layers or neurons?"
   ]
  },
  {
   "cell_type": "markdown",
   "metadata": {},
   "source": [
    "#### Here we add more neurons per layer and two more layer at the end"
   ]
  },
  {
   "cell_type": "code",
   "execution_count": 36,
   "metadata": {},
   "outputs": [
    {
     "name": "stdout",
     "output_type": "stream",
     "text": [
      "Model: \"sequential_7\"\n",
      "_________________________________________________________________\n",
      "Layer (type)                 Output Shape              Param #   \n",
      "=================================================================\n",
      "dense_31 (Dense)             (None, 128)               1536      \n",
      "_________________________________________________________________\n",
      "dense_32 (Dense)             (None, 128)               16512     \n",
      "_________________________________________________________________\n",
      "dense_33 (Dense)             (None, 128)               16512     \n",
      "_________________________________________________________________\n",
      "dense_34 (Dense)             (None, 128)               16512     \n",
      "_________________________________________________________________\n",
      "dense_35 (Dense)             (None, 128)               16512     \n",
      "_________________________________________________________________\n",
      "dense_36 (Dense)             (None, 7)                 903       \n",
      "=================================================================\n",
      "Total params: 68,487\n",
      "Trainable params: 68,487\n",
      "Non-trainable params: 0\n",
      "_________________________________________________________________\n"
     ]
    }
   ],
   "source": [
    "cols = df.columns\n",
    "nClasses = len(labels[0])\n",
    "\n",
    "#using Keras's Sequential model - https://keras.io/api/models/sequential/\n",
    "model = Sequential()\n",
    "#add input layer\n",
    "model.add(Input(shape=(len(cols),))) #the input layer shape should match the number of features we have\n",
    "#add first layer of fully connected neurons\n",
    "model.add(Dense(128,activation='relu'))\n",
    "#add second layer (first hidden layer)\n",
    "model.add(Dense(128,activation='relu'))\n",
    "#and one more because why not\n",
    "model.add(Dense(128,activation='relu'))\n",
    "\n",
    "model.add(Dense(128,activation='relu'))\n",
    "model.add(Dense(128,activation='relu'))\n",
    "#finally, our output layer should have only one neuron because we are trying to predict only one number\n",
    "#notice how there is a different activation function in this layer\n",
    "#this is because we want our outputs for each class to be a probability\n",
    "model.add(Dense(nClasses,activation='softmax'))\n",
    "\n",
    "#compile our model - set our loss metric (categorical cross entropy) and optimizer (stochastic gradient descent)\n",
    "#how does the model performance change with different optimizers (ie AdaGrad, SGD, etc.)?\n",
    "model.compile(loss='CategoricalCrossentropy',optimizer='Adam',metrics=['accuracy'])\n",
    "\n",
    "#let's see a summary of our model\n",
    "model.summary()"
   ]
  },
  {
   "cell_type": "markdown",
   "metadata": {},
   "source": [
    "As shown above, we have a network with four layers, 128 neurons/layer, for a total of ~50k trainable parameters (remember: parameters are the biases and weights that the network learns). Imagine how many parameters a large, complex network at Google has!"
   ]
  },
  {
   "cell_type": "markdown",
   "metadata": {},
   "source": [
    "### the same model can be built using the generic Model class and slightly different syntax\n",
    "`\n",
    "inputs = tf.keras.Input(shape=(len(cols),))\n",
    "outputs_L1 = Dense(64, activation='relu')(inputs)\n",
    "outputs_L2 = Dense(64, activation='relu')(outputs_L1)\n",
    "outputs_L3 = Dense(64, activation='relu')(outputs_L2)\n",
    "pred = Dense(1)(outputs_L3)\n",
    "model = Model(inputs=inputs,outputs=pred)\n",
    "`"
   ]
  },
  {
   "cell_type": "markdown",
   "metadata": {},
   "source": [
    "### Training our model\n",
    "\n",
    "Let's give our model all the input features (df), the corresponding labels (labels)\n",
    "\n",
    "There is a 20% validation split, which means that 80% of our data will be used to train the model parameters\n",
    "while 20% of it will be saved to \"check\" our answers. This is data that the model has not seen (been trained on) so the performance on the validation data should give us an idea of if the model is over- or underfitting.\n",
    "\n",
    "We will train for 100 epochs, which means that the entire dataset will be passed through the whole network 100 times. Our batch size is 20, meaning that 20 samples at a time are passed to the network before the parameters are updated. The `shuffle` argument ensures that our data is shuffled before the beginning of each epoch to reduce spurious learned correlations. What happens if you let the model run for more epochs?\n"
   ]
  },
  {
   "cell_type": "code",
   "execution_count": 37,
   "metadata": {},
   "outputs": [
    {
     "name": "stdout",
     "output_type": "stream",
     "text": [
      "Epoch 1/100\n",
      "41/41 [==============================] - 1s 9ms/step - loss: 1.7829 - accuracy: 0.3571 - val_loss: 1.3071 - val_accuracy: 0.3692\n",
      "Epoch 2/100\n",
      "41/41 [==============================] - 0s 6ms/step - loss: 1.2622 - accuracy: 0.4366 - val_loss: 1.2446 - val_accuracy: 0.4547\n",
      "Epoch 3/100\n",
      "41/41 [==============================] - 0s 6ms/step - loss: 1.2518 - accuracy: 0.4539 - val_loss: 1.2259 - val_accuracy: 0.4553\n",
      "Epoch 4/100\n",
      "41/41 [==============================] - 0s 6ms/step - loss: 1.2425 - accuracy: 0.4339 - val_loss: 1.2213 - val_accuracy: 0.4764\n",
      "Epoch 5/100\n",
      "41/41 [==============================] - 0s 6ms/step - loss: 1.2268 - accuracy: 0.4606 - val_loss: 1.2126 - val_accuracy: 0.4610\n",
      "Epoch 6/100\n",
      "41/41 [==============================] - 0s 6ms/step - loss: 1.2007 - accuracy: 0.4427 - val_loss: 1.2141 - val_accuracy: 0.4490\n",
      "Epoch 7/100\n",
      "41/41 [==============================] - 0s 5ms/step - loss: 1.1853 - accuracy: 0.4471 - val_loss: 1.1962 - val_accuracy: 0.4632\n",
      "Epoch 8/100\n",
      "41/41 [==============================] - 0s 6ms/step - loss: 1.1711 - accuracy: 0.4784 - val_loss: 1.1524 - val_accuracy: 0.5037\n",
      "Epoch 9/100\n",
      "41/41 [==============================] - 0s 5ms/step - loss: 1.1600 - accuracy: 0.4865 - val_loss: 1.1860 - val_accuracy: 0.4638\n",
      "Epoch 10/100\n",
      "41/41 [==============================] - 0s 5ms/step - loss: 1.1534 - accuracy: 0.4659 - val_loss: 1.1798 - val_accuracy: 0.4895\n",
      "Epoch 11/100\n",
      "41/41 [==============================] - 0s 5ms/step - loss: 1.1751 - accuracy: 0.4836 - val_loss: 1.1879 - val_accuracy: 0.4695\n",
      "Epoch 12/100\n",
      "41/41 [==============================] - 0s 5ms/step - loss: 1.1366 - accuracy: 0.5053 - val_loss: 1.1207 - val_accuracy: 0.5020\n",
      "Epoch 13/100\n",
      "41/41 [==============================] - 0s 5ms/step - loss: 1.1304 - accuracy: 0.4899 - val_loss: 1.1419 - val_accuracy: 0.4963\n",
      "Epoch 14/100\n",
      "41/41 [==============================] - 0s 6ms/step - loss: 1.1032 - accuracy: 0.5106 - val_loss: 1.1313 - val_accuracy: 0.4986\n",
      "Epoch 15/100\n",
      "41/41 [==============================] - 0s 5ms/step - loss: 1.1087 - accuracy: 0.5015 - val_loss: 1.1398 - val_accuracy: 0.4838\n",
      "Epoch 16/100\n",
      "41/41 [==============================] - 0s 5ms/step - loss: 1.0921 - accuracy: 0.5264 - val_loss: 1.1105 - val_accuracy: 0.5117\n",
      "Epoch 17/100\n",
      "41/41 [==============================] - 0s 5ms/step - loss: 1.1130 - accuracy: 0.5007 - val_loss: 1.1149 - val_accuracy: 0.5162\n",
      "Epoch 18/100\n",
      "41/41 [==============================] - 0s 5ms/step - loss: 1.0839 - accuracy: 0.5023 - val_loss: 1.1100 - val_accuracy: 0.5225\n",
      "Epoch 19/100\n",
      "41/41 [==============================] - 0s 5ms/step - loss: 1.0894 - accuracy: 0.5190 - val_loss: 1.1140 - val_accuracy: 0.5060\n",
      "Epoch 20/100\n",
      "41/41 [==============================] - 0s 8ms/step - loss: 1.1131 - accuracy: 0.5016 - val_loss: 1.0985 - val_accuracy: 0.5254\n",
      "Epoch 21/100\n",
      "41/41 [==============================] - 0s 5ms/step - loss: 1.0732 - accuracy: 0.5156 - val_loss: 1.1063 - val_accuracy: 0.5060\n",
      "Epoch 22/100\n",
      "41/41 [==============================] - 0s 7ms/step - loss: 1.0675 - accuracy: 0.5074 - val_loss: 1.1025 - val_accuracy: 0.5140\n",
      "Epoch 23/100\n",
      "41/41 [==============================] - 0s 7ms/step - loss: 1.0904 - accuracy: 0.5118 - val_loss: 1.1011 - val_accuracy: 0.5219\n",
      "Epoch 24/100\n",
      "41/41 [==============================] - 0s 5ms/step - loss: 1.0701 - accuracy: 0.5318 - val_loss: 1.1146 - val_accuracy: 0.5048\n",
      "Epoch 25/100\n",
      "41/41 [==============================] - 0s 5ms/step - loss: 1.0517 - accuracy: 0.5387 - val_loss: 1.1989 - val_accuracy: 0.4707\n",
      "Epoch 26/100\n",
      "41/41 [==============================] - 0s 6ms/step - loss: 1.0700 - accuracy: 0.5139 - val_loss: 1.0965 - val_accuracy: 0.5202\n",
      "Epoch 27/100\n",
      "41/41 [==============================] - 0s 5ms/step - loss: 1.0488 - accuracy: 0.5263 - val_loss: 1.1102 - val_accuracy: 0.4974\n",
      "Epoch 28/100\n",
      "41/41 [==============================] - 0s 9ms/step - loss: 1.0601 - accuracy: 0.5312 - val_loss: 1.0887 - val_accuracy: 0.5299\n",
      "Epoch 29/100\n",
      "41/41 [==============================] - 0s 7ms/step - loss: 1.0371 - accuracy: 0.5389 - val_loss: 1.0954 - val_accuracy: 0.5236\n",
      "Epoch 30/100\n",
      "41/41 [==============================] - 0s 9ms/step - loss: 1.0499 - accuracy: 0.5198 - val_loss: 1.1172 - val_accuracy: 0.5242\n",
      "Epoch 31/100\n",
      "41/41 [==============================] - 0s 6ms/step - loss: 1.0560 - accuracy: 0.5101 - val_loss: 1.1034 - val_accuracy: 0.5282\n",
      "Epoch 32/100\n",
      "41/41 [==============================] - 0s 7ms/step - loss: 1.0501 - accuracy: 0.5174 - val_loss: 1.0934 - val_accuracy: 0.5151\n",
      "Epoch 33/100\n",
      "41/41 [==============================] - 0s 5ms/step - loss: 1.0569 - accuracy: 0.5295 - val_loss: 1.1142 - val_accuracy: 0.4952\n",
      "Epoch 34/100\n",
      "41/41 [==============================] - 0s 6ms/step - loss: 1.0430 - accuracy: 0.5309 - val_loss: 1.0974 - val_accuracy: 0.5231\n",
      "Epoch 35/100\n",
      "41/41 [==============================] - 0s 6ms/step - loss: 1.0720 - accuracy: 0.5181 - val_loss: 1.0907 - val_accuracy: 0.5368\n",
      "Epoch 36/100\n",
      "41/41 [==============================] - 0s 7ms/step - loss: 1.0409 - accuracy: 0.5279 - val_loss: 1.0976 - val_accuracy: 0.5208\n",
      "Epoch 37/100\n",
      "41/41 [==============================] - 0s 5ms/step - loss: 1.0280 - accuracy: 0.5379 - val_loss: 1.1151 - val_accuracy: 0.5077\n",
      "Epoch 38/100\n",
      "41/41 [==============================] - 0s 5ms/step - loss: 1.0479 - accuracy: 0.5405 - val_loss: 1.0921 - val_accuracy: 0.5299\n",
      "Epoch 39/100\n",
      "41/41 [==============================] - 0s 5ms/step - loss: 1.0175 - accuracy: 0.5297 - val_loss: 1.0875 - val_accuracy: 0.5271\n",
      "Epoch 40/100\n",
      "41/41 [==============================] - 0s 5ms/step - loss: 1.0283 - accuracy: 0.5279 - val_loss: 1.1100 - val_accuracy: 0.5259\n",
      "Epoch 41/100\n",
      "41/41 [==============================] - 0s 10ms/step - loss: 1.0330 - accuracy: 0.5391 - val_loss: 1.0823 - val_accuracy: 0.5236\n",
      "Epoch 42/100\n",
      "41/41 [==============================] - 0s 8ms/step - loss: 1.0195 - accuracy: 0.5374 - val_loss: 1.0982 - val_accuracy: 0.5123\n",
      "Epoch 43/100\n",
      "41/41 [==============================] - 0s 7ms/step - loss: 0.9971 - accuracy: 0.5593 - val_loss: 1.1308 - val_accuracy: 0.5014\n",
      "Epoch 44/100\n",
      "41/41 [==============================] - 0s 7ms/step - loss: 1.0384 - accuracy: 0.5296 - val_loss: 1.1363 - val_accuracy: 0.4957\n",
      "Epoch 45/100\n",
      "41/41 [==============================] - 0s 7ms/step - loss: 1.0598 - accuracy: 0.5191 - val_loss: 1.1030 - val_accuracy: 0.5202\n",
      "Epoch 46/100\n",
      "41/41 [==============================] - 0s 10ms/step - loss: 1.0242 - accuracy: 0.5450 - val_loss: 1.0755 - val_accuracy: 0.5282\n",
      "Epoch 47/100\n",
      "41/41 [==============================] - 0s 8ms/step - loss: 1.0208 - accuracy: 0.5288 - val_loss: 1.1365 - val_accuracy: 0.5134\n",
      "Epoch 48/100\n",
      "41/41 [==============================] - 0s 11ms/step - loss: 1.0385 - accuracy: 0.5191 - val_loss: 1.0994 - val_accuracy: 0.5293\n",
      "Epoch 49/100\n",
      "41/41 [==============================] - 0s 7ms/step - loss: 1.0165 - accuracy: 0.5468 - val_loss: 1.1106 - val_accuracy: 0.5123\n",
      "Epoch 50/100\n",
      "41/41 [==============================] - 0s 7ms/step - loss: 1.0205 - accuracy: 0.5458 - val_loss: 1.1050 - val_accuracy: 0.5214\n",
      "Epoch 51/100\n",
      "41/41 [==============================] - 0s 5ms/step - loss: 0.9941 - accuracy: 0.5391 - val_loss: 1.0880 - val_accuracy: 0.5402\n",
      "Epoch 52/100\n",
      "41/41 [==============================] - 0s 7ms/step - loss: 1.0324 - accuracy: 0.5217 - val_loss: 1.1155 - val_accuracy: 0.5151\n",
      "Epoch 53/100\n",
      "41/41 [==============================] - 0s 6ms/step - loss: 1.0179 - accuracy: 0.5514 - val_loss: 1.0846 - val_accuracy: 0.5356\n",
      "Epoch 54/100\n",
      "41/41 [==============================] - 0s 6ms/step - loss: 1.0044 - accuracy: 0.5400 - val_loss: 1.1230 - val_accuracy: 0.5236\n",
      "Epoch 55/100\n",
      "41/41 [==============================] - 0s 8ms/step - loss: 1.0191 - accuracy: 0.5471 - val_loss: 1.0971 - val_accuracy: 0.5288\n",
      "Epoch 56/100\n",
      "41/41 [==============================] - 0s 7ms/step - loss: 0.9930 - accuracy: 0.5507 - val_loss: 1.0853 - val_accuracy: 0.5368\n",
      "Epoch 57/100\n",
      "41/41 [==============================] - 0s 7ms/step - loss: 0.9985 - accuracy: 0.5497 - val_loss: 1.0941 - val_accuracy: 0.5339\n",
      "Epoch 58/100\n",
      "41/41 [==============================] - 0s 5ms/step - loss: 0.9987 - accuracy: 0.5632 - val_loss: 1.1116 - val_accuracy: 0.5282\n"
     ]
    },
    {
     "name": "stdout",
     "output_type": "stream",
     "text": [
      "Epoch 59/100\n",
      "41/41 [==============================] - 0s 5ms/step - loss: 0.9915 - accuracy: 0.5516 - val_loss: 1.0880 - val_accuracy: 0.5419\n",
      "Epoch 60/100\n",
      "41/41 [==============================] - 0s 5ms/step - loss: 1.0004 - accuracy: 0.5534 - val_loss: 1.0985 - val_accuracy: 0.5390\n",
      "Epoch 61/100\n",
      "41/41 [==============================] - 0s 4ms/step - loss: 0.9923 - accuracy: 0.5548 - val_loss: 1.1173 - val_accuracy: 0.5157\n",
      "Epoch 62/100\n",
      "41/41 [==============================] - 0s 5ms/step - loss: 0.9805 - accuracy: 0.5553 - val_loss: 1.0995 - val_accuracy: 0.5305\n",
      "Epoch 63/100\n",
      "41/41 [==============================] - 0s 5ms/step - loss: 0.9819 - accuracy: 0.5586 - val_loss: 1.1079 - val_accuracy: 0.5396\n",
      "Epoch 64/100\n",
      "41/41 [==============================] - 0s 4ms/step - loss: 0.9817 - accuracy: 0.5617 - val_loss: 1.0943 - val_accuracy: 0.5322\n",
      "Epoch 65/100\n",
      "41/41 [==============================] - 0s 5ms/step - loss: 0.9599 - accuracy: 0.5674 - val_loss: 1.0982 - val_accuracy: 0.5271\n",
      "Epoch 66/100\n",
      "41/41 [==============================] - 0s 4ms/step - loss: 0.9991 - accuracy: 0.5534 - val_loss: 1.1309 - val_accuracy: 0.5094\n",
      "Epoch 67/100\n",
      "41/41 [==============================] - 0s 5ms/step - loss: 0.9829 - accuracy: 0.5542 - val_loss: 1.0891 - val_accuracy: 0.5390\n",
      "Epoch 68/100\n",
      "41/41 [==============================] - 0s 5ms/step - loss: 0.9640 - accuracy: 0.5594 - val_loss: 1.0985 - val_accuracy: 0.5311\n",
      "Epoch 69/100\n",
      "41/41 [==============================] - 0s 5ms/step - loss: 0.9560 - accuracy: 0.5740 - val_loss: 1.0933 - val_accuracy: 0.5219\n",
      "Epoch 70/100\n",
      "41/41 [==============================] - 0s 5ms/step - loss: 0.9648 - accuracy: 0.5618 - val_loss: 1.1195 - val_accuracy: 0.5083\n",
      "Epoch 71/100\n",
      "41/41 [==============================] - 0s 7ms/step - loss: 0.9730 - accuracy: 0.5656 - val_loss: 1.1087 - val_accuracy: 0.5322\n",
      "Epoch 72/100\n",
      "41/41 [==============================] - 0s 5ms/step - loss: 0.9468 - accuracy: 0.5747 - val_loss: 1.1132 - val_accuracy: 0.5362\n",
      "Epoch 73/100\n",
      "41/41 [==============================] - 0s 5ms/step - loss: 0.9425 - accuracy: 0.5675 - val_loss: 1.1026 - val_accuracy: 0.5311\n",
      "Epoch 74/100\n",
      "41/41 [==============================] - 0s 5ms/step - loss: 0.9344 - accuracy: 0.5786 - val_loss: 1.1081 - val_accuracy: 0.5373\n",
      "Epoch 75/100\n",
      "41/41 [==============================] - 0s 4ms/step - loss: 0.9382 - accuracy: 0.5868 - val_loss: 1.0984 - val_accuracy: 0.5316\n",
      "Epoch 76/100\n",
      "41/41 [==============================] - 0s 5ms/step - loss: 0.9666 - accuracy: 0.5619 - val_loss: 1.1037 - val_accuracy: 0.5413\n",
      "Epoch 77/100\n",
      "41/41 [==============================] - 0s 5ms/step - loss: 0.9596 - accuracy: 0.5661 - val_loss: 1.1003 - val_accuracy: 0.5316\n",
      "Epoch 78/100\n",
      "41/41 [==============================] - 0s 5ms/step - loss: 0.9514 - accuracy: 0.5622 - val_loss: 1.1029 - val_accuracy: 0.5356\n",
      "Epoch 79/100\n",
      "41/41 [==============================] - 0s 5ms/step - loss: 0.9334 - accuracy: 0.5656 - val_loss: 1.1031 - val_accuracy: 0.5265\n",
      "Epoch 80/100\n",
      "41/41 [==============================] - 0s 4ms/step - loss: 0.9384 - accuracy: 0.5794 - val_loss: 1.1349 - val_accuracy: 0.5071\n",
      "Epoch 81/100\n",
      "41/41 [==============================] - 0s 5ms/step - loss: 0.9313 - accuracy: 0.5678 - val_loss: 1.1064 - val_accuracy: 0.5333\n",
      "Epoch 82/100\n",
      "41/41 [==============================] - 0s 5ms/step - loss: 0.9214 - accuracy: 0.5924 - val_loss: 1.1047 - val_accuracy: 0.5322\n",
      "Epoch 83/100\n",
      "41/41 [==============================] - 0s 7ms/step - loss: 0.9093 - accuracy: 0.5859 - val_loss: 1.1181 - val_accuracy: 0.5345\n",
      "Epoch 84/100\n",
      "41/41 [==============================] - 0s 8ms/step - loss: 0.9093 - accuracy: 0.5833 - val_loss: 1.1174 - val_accuracy: 0.5390\n",
      "Epoch 85/100\n",
      "41/41 [==============================] - 0s 8ms/step - loss: 0.9098 - accuracy: 0.5931 - val_loss: 1.1305 - val_accuracy: 0.5214\n",
      "Epoch 86/100\n",
      "41/41 [==============================] - 0s 8ms/step - loss: 0.9253 - accuracy: 0.5901 - val_loss: 1.1313 - val_accuracy: 0.5271\n",
      "Epoch 87/100\n",
      "41/41 [==============================] - 0s 8ms/step - loss: 0.9207 - accuracy: 0.6109 - val_loss: 1.1420 - val_accuracy: 0.5311\n",
      "Epoch 88/100\n",
      "41/41 [==============================] - 0s 7ms/step - loss: 0.9295 - accuracy: 0.5910 - val_loss: 1.1149 - val_accuracy: 0.5265\n",
      "Epoch 89/100\n",
      "41/41 [==============================] - 0s 6ms/step - loss: 0.9278 - accuracy: 0.5874 - val_loss: 1.1632 - val_accuracy: 0.5214\n",
      "Epoch 90/100\n",
      "41/41 [==============================] - 0s 6ms/step - loss: 0.9529 - accuracy: 0.5640 - val_loss: 1.1451 - val_accuracy: 0.5168\n",
      "Epoch 91/100\n",
      "41/41 [==============================] - 0s 7ms/step - loss: 0.9454 - accuracy: 0.5860 - val_loss: 1.1695 - val_accuracy: 0.5265\n",
      "Epoch 92/100\n",
      "41/41 [==============================] - 0s 6ms/step - loss: 0.9178 - accuracy: 0.5939 - val_loss: 1.1392 - val_accuracy: 0.5430\n",
      "Epoch 93/100\n",
      "41/41 [==============================] - 0s 8ms/step - loss: 0.8858 - accuracy: 0.6034 - val_loss: 1.1287 - val_accuracy: 0.5322\n",
      "Epoch 94/100\n",
      "41/41 [==============================] - 0s 6ms/step - loss: 0.8949 - accuracy: 0.5993 - val_loss: 1.1338 - val_accuracy: 0.5459\n",
      "Epoch 95/100\n",
      "41/41 [==============================] - 0s 6ms/step - loss: 0.8986 - accuracy: 0.5900 - val_loss: 1.1469 - val_accuracy: 0.5385\n",
      "Epoch 96/100\n",
      "41/41 [==============================] - 0s 5ms/step - loss: 0.9025 - accuracy: 0.6102 - val_loss: 1.1371 - val_accuracy: 0.5219\n",
      "Epoch 97/100\n",
      "41/41 [==============================] - 0s 6ms/step - loss: 0.8900 - accuracy: 0.6015 - val_loss: 1.1338 - val_accuracy: 0.5368\n",
      "Epoch 98/100\n",
      "41/41 [==============================] - 0s 6ms/step - loss: 0.9060 - accuracy: 0.5948 - val_loss: 1.1829 - val_accuracy: 0.5174\n",
      "Epoch 99/100\n",
      "41/41 [==============================] - 0s 5ms/step - loss: 0.8911 - accuracy: 0.5983 - val_loss: 1.1720 - val_accuracy: 0.5339\n",
      "Epoch 100/100\n",
      "41/41 [==============================] - 0s 5ms/step - loss: 0.8952 - accuracy: 0.6095 - val_loss: 1.1405 - val_accuracy: 0.5299\n"
     ]
    }
   ],
   "source": [
    "history = model.fit(\n",
    "    df, labels,\n",
    "    validation_split=0.3,\n",
    "    verbose=1, epochs=100, batch_size=100, shuffle=True)"
   ]
  },
  {
   "cell_type": "markdown",
   "metadata": {},
   "source": [
    "Let's define a function to visualize our loss"
   ]
  },
  {
   "cell_type": "code",
   "execution_count": 38,
   "metadata": {},
   "outputs": [
    {
     "data": {
      "image/png": "[encoded data removed]",
      "text/plain": [
       "<Figure size 432x288 with 1 Axes>"
      ]
     },
     "metadata": {
      "needs_background": "light"
     },
     "output_type": "display_data"
    }
   ],
   "source": [
    "def show_loss(history):\n",
    "    plt.figure()\n",
    "    plt.plot(history.history['val_loss'], label=\"val loss\")\n",
    "    plt.plot(history.history['loss'],label=\"train loss\")\n",
    "    plt.xlabel(\"Epoch\")\n",
    "    plt.ylabel(\"Loss\")\n",
    "    plt.legend()\n",
    "show_loss(history)"
   ]
  },
  {
   "cell_type": "markdown",
   "metadata": {},
   "source": [
    "It looks like our training loss is more or less monotonically minimized with each epoch (with some fluctuations) while the validation loss seems to be on average higher. The validation loss spikes more severely than the training loss, which is probably due to limited statistics (we only had ~6k samples and took onlt 20% of them for validation - it usually takes LOTS of data to train neural networks well!). The trend discrepancy between training and validation losses could indicate some overfitting in our model. What happens if you increase the percentage of data used for validation? Since it's pretty apparent we're overfitting to our training data, we could introduce some sort of regularization techniques, like L2 regularization (that penalizes large weights) or dropout (that randomly drops neurons in a layer with a set probability). What happens if you introduce some of these methods?"
   ]
  },
  {
   "cell_type": "markdown",
   "metadata": {},
   "source": [
    "### Remember that test data we set aside at the beginning?\n",
    "Now it's time to use it to evaluate our model performance!"
   ]
  },
  {
   "cell_type": "code",
   "execution_count": 39,
   "metadata": {
    "scrolled": true
   },
   "outputs": [
    {
     "name": "stdout",
     "output_type": "stream",
     "text": [
      "21/21 [==============================] - 0s 2ms/step - loss: 1.1782 - accuracy: 0.5462\n",
      "Accuracy for test data is 0.5461538434028625\n"
     ]
    }
   ],
   "source": [
    "_, acc = model.evaluate(df_test, df_testLabels, verbose=1)\n",
    "print('Accuracy for test data is',acc)"
   ]
  },
  {
   "cell_type": "markdown",
   "metadata": {},
   "source": [
    "To plot our results, I just chose the highest probability of the classes and assigned the prediction to a class based on that rounding (highest probability gets a 1, every other class gets a 0). Then, I one-hot decoded the rounded array to get a single number for the class. "
   ]
  },
  {
   "cell_type": "code",
   "execution_count": 40,
   "metadata": {},
   "outputs": [
    {
     "data": {
      "image/png": "[encoded data removed]",
      "text/plain": [
       "<Figure size 432x288 with 2 Axes>"
      ]
     },
     "metadata": {
      "needs_background": "light"
     },
     "output_type": "display_data"
    }
   ],
   "source": [
    "preds = model.predict(df_test)\n",
    "#preds = [i.round() for i in preds]\n",
    "preds = tf.one_hot(tf.math.argmax(preds, axis = 1), depth = len(preds[0]))\n",
    "\n",
    "preds = enc.inverse_transform(preds)\n",
    "testLabels = enc.inverse_transform(df_testLabels)\n",
    "cm = confusion_matrix(testLabels, preds)\n",
    "\n",
    "_ =plt.imshow(cm, cmap=plt.cm.Blues)\n",
    "_ = plt.xlabel(\"Predicted labels\")\n",
    "_ = plt.ylabel(\"True labels\")\n",
    "\n",
    "_ =plt.xticks(np.arange(0,len(np.unique(testLabels)),1),np.unique(testLabels))\n",
    "_ =plt.yticks(np.arange(0,len(np.unique(testLabels)),1),np.unique(testLabels))\n",
    "_ =plt.title('Confusion matrix ')\n",
    "_ =plt.colorbar()\n",
    "plt.show()"
   ]
  },
  {
   "cell_type": "markdown",
   "metadata": {},
   "source": [
    "It looks like our network is only predicting *some* of our classes. Maybe that's because really good wine (rated 8 and 9) is pretty rare? Let's check it out."
   ]
  },
  {
   "cell_type": "code",
   "execution_count": 41,
   "metadata": {},
   "outputs": [
    {
     "data": {
      "image/png": "[encoded data removed]",
      "text/plain": [
       "<Figure size 432x288 with 1 Axes>"
      ]
     },
     "metadata": {
      "needs_background": "light"
     },
     "output_type": "display_data"
    }
   ],
   "source": [
    "_=plt.hist(enc.inverse_transform(labels),label='training labels')\n",
    "_=plt.hist(testLabels,label='test labels')\n",
    "_=plt.yscale('log')\n",
    "_=plt.legend()"
   ]
  },
  {
   "cell_type": "markdown",
   "metadata": {},
   "source": [
    "Yep! Mostly 5s, 6s, and 7s. Only a handful of really good wines (8s and 9s) and really bad wines (3s and 4s). In fact, no scores below a 3! But no perfect 10s either. Overall, I would say that the dataset is imbalanced (mostly ok wines, some bad and some good - a pretty Gaussian distribution) and could benefit from data augmentation techniques like bootstrapping! Maybe you could even generate some more data from randomly sampling a known distribution...But if you train your model on mostly ok wines, then it learns the characteristics of those wines really well. So, when it's faced with a good or bad wine, it's not as sure how to classify it. You can see if this is happening by looking at the network output, which are the probabilities for each class (ie how sure the network is this sample belongs to a certain class)."
   ]
  },
  {
   "cell_type": "markdown",
   "metadata": {},
   "source": [
    "### Overall, \n",
    "our network performs ok with a training, validation, and test accuracy all around 50-60%. What could you change about the network or inputs? How do you think that would affect the model's predictions?"
   ]
  },
  {
   "cell_type": "markdown",
   "metadata": {},
   "source": [
    "Answer: With the change of 128 neutrons per layer and two more hidden layers, the model is now overfitting, that is the the train loss decreases whereas the validation loss increases"
   ]
  },
  {
   "cell_type": "code",
   "execution_count": null,
   "metadata": {},
   "outputs": [],
   "source": []
  }
 ],
 "metadata": {
  "kernelspec": {
   "display_name": "Python 3",
   "language": "python",
   "name": "python3"
  },
  "language_info": {
   "codemirror_mode": {
    "name": "ipython",
    "version": 3
   },
   "file_extension": ".py",
   "mimetype": "text/x-python",
   "name": "python",
   "nbconvert_exporter": "python",
   "pygments_lexer": "ipython3",
   "version": "3.8.1"
  }
 },
 "nbformat": 4,
 "nbformat_minor": 2
}
